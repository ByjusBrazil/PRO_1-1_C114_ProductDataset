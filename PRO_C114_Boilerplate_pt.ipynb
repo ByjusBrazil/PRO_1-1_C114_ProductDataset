{
  "nbformat": 4,
  "nbformat_minor": 0,
  "metadata": {
    "colab": {
      "provenance": [],
      "include_colab_link": true
    },
    "kernelspec": {
      "name": "python3",
      "display_name": "Python 3"
    },
    "language_info": {
      "name": "python"
    }
  },
  "cells": [
    {
      "cell_type": "markdown",
      "metadata": {
        "id": "view-in-github",
        "colab_type": "text"
      },
      "source": [
        "<a href=\"https://colab.research.google.com/github/ByjusBrazil/PRO_1-1_C114_ProductDataset/blob/main/PRO_C114_Boilerplate_pt.ipynb\" target=\"_parent\"><img src=\"https://colab.research.google.com/assets/colab-badge.svg\" alt=\"Open In Colab\"/></a>"
      ]
    },
    {
      "cell_type": "markdown",
      "source": [
        "## Carregue o Conjunto de Dados"
      ],
      "metadata": {
        "id": "JVUNq18b2pLl"
      }
    },
    {
      "cell_type": "code",
      "execution_count": null,
      "metadata": {
        "colab": {
          "base_uri": "https://localhost:8080/"
        },
        "id": "a1j5OkXwWyXi",
        "outputId": "5d265959-af5a-42fb-f513-d1ee5edc451b"
      },
      "outputs": [
        {
          "output_type": "stream",
          "name": "stdout",
          "text": [
            "Cloning into 'PRO_1-1_C114_TextSentimentDataset'...\n",
            "remote: Enumerating objects: 6, done.\u001b[K\n",
            "remote: Counting objects: 100% (6/6), done.\u001b[K\n",
            "remote: Compressing objects: 100% (4/4), done.\u001b[K\n",
            "remote: Total 6 (delta 1), reused 6 (delta 1), pack-reused 0\u001b[K\n",
            "Unpacking objects: 100% (6/6), done.\n"
          ]
        }
      ],
      "source": [
        "!git clone https://github.com/ByjusBrazil/PRO_1-1_C114_TextSentimentDataset"
      ]
    },
    {
      "cell_type": "markdown",
      "source": [
        "## Pandas:\n",
        "O **Pandas** é uma biblioteca de código aberto construída sobre o Numpy e o Matplotlib. Ele fornece estruturas de dados de alto desempenho e fáceis de usar e ferramentas de análise de dados.\n",
        "\n",
        "Um DataFrame (quadro de dados) é uma estrutura de dados bidimensional, ou seja, os dados são alinhados de forma tabular em linhas e colunas da mesma forma que nosso conjunto de dados de teste. O DataFrame do Pandas consiste em três componentes principais, os dados, as linhas e as colunas.\n",
        "\n",
        "O DataFrame do Pandas será criado carregando os conjuntos de dados de arquivos existentes do MS Excel, arquivos CSV ou banco de dados SQL. O DataFrame do Pandas também pode ser criado a partir de listas, dicionários, etc.\n",
        "\n"
      ],
      "metadata": {
        "id": "bCJiSzc3rbbi"
      }
    },
    {
      "cell_type": "code",
      "source": [
        "#Importe o pandas\n",
        "\n",
        "#leia o arquivo excel\n",
        "\n",
        "#exiba as primeiras cinco entradas do conjunto de dados de treinamento\n"
      ],
      "metadata": {
        "id": "8tw57zW9XmJW"
      },
      "execution_count": null,
      "outputs": []
    },
    {
      "cell_type": "markdown",
      "source": [
        "## Divida as linhas em duas colunas como Text (texto) e Emotions (emoções)\n",
        "\n"
      ],
      "metadata": {
        "id": "-acm1w6z3Zzh"
      }
    },
    {
      "cell_type": "code",
      "source": [
        "#Use o método split() para separar o texto e as emoções"
      ],
      "metadata": {
        "id": "zzegYbDaYbdA"
      },
      "execution_count": null,
      "outputs": []
    },
    {
      "cell_type": "markdown",
      "source": [
        "## Dando etiquetas às emoções"
      ],
      "metadata": {
        "id": "WkMExmL-4J-y"
      }
    },
    {
      "cell_type": "code",
      "source": [
        "#Encontre emoções únicas\n"
      ],
      "metadata": {
        "id": "H_udnVtA3thj"
      },
      "execution_count": null,
      "outputs": []
    },
    {
      "cell_type": "code",
      "source": [
        "#Crie um dicionário para substituir emoções por etiquetas\n"
      ],
      "metadata": {
        "id": "v0kxadlr4VMe"
      },
      "execution_count": null,
      "outputs": []
    },
    {
      "cell_type": "markdown",
      "source": [
        "## Converta o Dataframe em lista de conjunto de dados"
      ],
      "metadata": {
        "id": "SLoT0jjT4yBK"
      }
    },
    {
      "cell_type": "code",
      "source": [
        "# Defina duas listas para frases e emoções\n",
        "\n",
        "# Anexe o texto e as emoções na lista usando o método 'loc'\n",
        "\n",
        "# Verifique um texto e uma etiqueta aleatórios da lista"
      ],
      "metadata": {
        "id": "wEw0yLt74ryp"
      },
      "execution_count": null,
      "outputs": []
    },
    {
      "cell_type": "markdown",
      "source": [
        "## Tokenização e Preenchimento\n",
        "O ato de converter texto em números é conhecido como **Tokenização**. A classe Tokenizer do Keras é usada para codificar entrada de texto em sequências inteiras.\n",
        "\n",
        "O **Preenchimento** é importante para fazer com que todas as frases contenham o mesmo número de palavras. Zeros são usados para preencher a sequência tokenizada para fazer o texto conter o mesmo número de tokens."
      ],
      "metadata": {
        "id": "JEJfFQtxzOKG"
      }
    },
    {
      "cell_type": "code",
      "source": [
        "#Importe o Tokenizer e as pad_sequences do tensorflow\n",
        "\n",
        "#Defina os parâmetros do Tokenizer\n",
        "\n",
        "#Crie um dicionário chamado word_index\n",
        "\n",
        "#Verifique a sequência tokenizada"
      ],
      "metadata": {
        "id": "tffdBTQ_zUIW"
      },
      "execution_count": null,
      "outputs": []
    },
    {
      "cell_type": "code",
      "source": [
        "#Importe as pad_sequences do tensorflow\n",
        "\n",
        "#Defina os parâmetros das pad_sequences\n",
        "\n",
        "#Verifique a sequência preenchida"
      ],
      "metadata": {
        "id": "zz4lPYEF1gAa"
      },
      "execution_count": null,
      "outputs": []
    }
  ]
}